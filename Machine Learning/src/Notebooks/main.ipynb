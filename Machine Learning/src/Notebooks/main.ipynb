{
 "cells": [
  {
   "cell_type": "code",
   "execution_count": 112,
   "metadata": {},
   "outputs": [],
   "source": [
    "import pandas as pd\n",
    "import numpy as np"
   ]
  },
  {
   "cell_type": "code",
   "execution_count": 113,
   "metadata": {},
   "outputs": [
    {
     "name": "stdout",
     "output_type": "stream",
     "text": [
      "Index(['hotel', 'is_canceled', 'lead_time', 'arrival_date_year',\n",
      "       'arrival_date_month', 'arrival_date_week_number',\n",
      "       'arrival_date_day_of_month', 'stays_in_weekend_nights',\n",
      "       'stays_in_week_nights', 'adults', 'children', 'babies', 'meal',\n",
      "       'country', 'market_segment', 'distribution_channel',\n",
      "       'is_repeated_guest', 'previous_cancellations',\n",
      "       'previous_bookings_not_canceled', 'reserved_room_type',\n",
      "       'assigned_room_type', 'booking_changes', 'deposit_type', 'agent',\n",
      "       'company', 'days_in_waiting_list', 'customer_type', 'adr',\n",
      "       'required_car_parking_spaces', 'total_of_special_requests',\n",
      "       'reservation_status', 'reservation_status_date'],\n",
      "      dtype='object')\n"
     ]
    },
    {
     "data": {
      "text/html": [
       "<div>\n",
       "<style scoped>\n",
       "    .dataframe tbody tr th:only-of-type {\n",
       "        vertical-align: middle;\n",
       "    }\n",
       "\n",
       "    .dataframe tbody tr th {\n",
       "        vertical-align: top;\n",
       "    }\n",
       "\n",
       "    .dataframe thead th {\n",
       "        text-align: right;\n",
       "    }\n",
       "</style>\n",
       "<table border=\"1\" class=\"dataframe\">\n",
       "  <thead>\n",
       "    <tr style=\"text-align: right;\">\n",
       "      <th></th>\n",
       "      <th>hotel</th>\n",
       "      <th>is_canceled</th>\n",
       "      <th>lead_time</th>\n",
       "      <th>arrival_date_year</th>\n",
       "      <th>arrival_date_month</th>\n",
       "      <th>arrival_date_week_number</th>\n",
       "      <th>arrival_date_day_of_month</th>\n",
       "      <th>stays_in_weekend_nights</th>\n",
       "      <th>stays_in_week_nights</th>\n",
       "      <th>adults</th>\n",
       "      <th>...</th>\n",
       "      <th>deposit_type</th>\n",
       "      <th>agent</th>\n",
       "      <th>company</th>\n",
       "      <th>days_in_waiting_list</th>\n",
       "      <th>customer_type</th>\n",
       "      <th>adr</th>\n",
       "      <th>required_car_parking_spaces</th>\n",
       "      <th>total_of_special_requests</th>\n",
       "      <th>reservation_status</th>\n",
       "      <th>reservation_status_date</th>\n",
       "    </tr>\n",
       "  </thead>\n",
       "  <tbody>\n",
       "    <tr>\n",
       "      <th>0</th>\n",
       "      <td>Resort Hotel</td>\n",
       "      <td>0</td>\n",
       "      <td>342</td>\n",
       "      <td>2015</td>\n",
       "      <td>July</td>\n",
       "      <td>27</td>\n",
       "      <td>1</td>\n",
       "      <td>0</td>\n",
       "      <td>0</td>\n",
       "      <td>2</td>\n",
       "      <td>...</td>\n",
       "      <td>No Deposit</td>\n",
       "      <td>NaN</td>\n",
       "      <td>NaN</td>\n",
       "      <td>0</td>\n",
       "      <td>Transient</td>\n",
       "      <td>0.0</td>\n",
       "      <td>0</td>\n",
       "      <td>0</td>\n",
       "      <td>Check-Out</td>\n",
       "      <td>2015-07-01</td>\n",
       "    </tr>\n",
       "    <tr>\n",
       "      <th>1</th>\n",
       "      <td>Resort Hotel</td>\n",
       "      <td>0</td>\n",
       "      <td>737</td>\n",
       "      <td>2015</td>\n",
       "      <td>July</td>\n",
       "      <td>27</td>\n",
       "      <td>1</td>\n",
       "      <td>0</td>\n",
       "      <td>0</td>\n",
       "      <td>2</td>\n",
       "      <td>...</td>\n",
       "      <td>No Deposit</td>\n",
       "      <td>NaN</td>\n",
       "      <td>NaN</td>\n",
       "      <td>0</td>\n",
       "      <td>Transient</td>\n",
       "      <td>0.0</td>\n",
       "      <td>0</td>\n",
       "      <td>0</td>\n",
       "      <td>Check-Out</td>\n",
       "      <td>2015-07-01</td>\n",
       "    </tr>\n",
       "    <tr>\n",
       "      <th>2</th>\n",
       "      <td>Resort Hotel</td>\n",
       "      <td>0</td>\n",
       "      <td>7</td>\n",
       "      <td>2015</td>\n",
       "      <td>July</td>\n",
       "      <td>27</td>\n",
       "      <td>1</td>\n",
       "      <td>0</td>\n",
       "      <td>1</td>\n",
       "      <td>1</td>\n",
       "      <td>...</td>\n",
       "      <td>No Deposit</td>\n",
       "      <td>NaN</td>\n",
       "      <td>NaN</td>\n",
       "      <td>0</td>\n",
       "      <td>Transient</td>\n",
       "      <td>75.0</td>\n",
       "      <td>0</td>\n",
       "      <td>0</td>\n",
       "      <td>Check-Out</td>\n",
       "      <td>2015-07-02</td>\n",
       "    </tr>\n",
       "    <tr>\n",
       "      <th>3</th>\n",
       "      <td>Resort Hotel</td>\n",
       "      <td>0</td>\n",
       "      <td>13</td>\n",
       "      <td>2015</td>\n",
       "      <td>July</td>\n",
       "      <td>27</td>\n",
       "      <td>1</td>\n",
       "      <td>0</td>\n",
       "      <td>1</td>\n",
       "      <td>1</td>\n",
       "      <td>...</td>\n",
       "      <td>No Deposit</td>\n",
       "      <td>304.0</td>\n",
       "      <td>NaN</td>\n",
       "      <td>0</td>\n",
       "      <td>Transient</td>\n",
       "      <td>75.0</td>\n",
       "      <td>0</td>\n",
       "      <td>0</td>\n",
       "      <td>Check-Out</td>\n",
       "      <td>2015-07-02</td>\n",
       "    </tr>\n",
       "    <tr>\n",
       "      <th>4</th>\n",
       "      <td>Resort Hotel</td>\n",
       "      <td>0</td>\n",
       "      <td>14</td>\n",
       "      <td>2015</td>\n",
       "      <td>July</td>\n",
       "      <td>27</td>\n",
       "      <td>1</td>\n",
       "      <td>0</td>\n",
       "      <td>2</td>\n",
       "      <td>2</td>\n",
       "      <td>...</td>\n",
       "      <td>No Deposit</td>\n",
       "      <td>240.0</td>\n",
       "      <td>NaN</td>\n",
       "      <td>0</td>\n",
       "      <td>Transient</td>\n",
       "      <td>98.0</td>\n",
       "      <td>0</td>\n",
       "      <td>1</td>\n",
       "      <td>Check-Out</td>\n",
       "      <td>2015-07-03</td>\n",
       "    </tr>\n",
       "  </tbody>\n",
       "</table>\n",
       "<p>5 rows × 32 columns</p>\n",
       "</div>"
      ],
      "text/plain": [
       "          hotel  is_canceled  lead_time  arrival_date_year arrival_date_month  \\\n",
       "0  Resort Hotel            0        342               2015               July   \n",
       "1  Resort Hotel            0        737               2015               July   \n",
       "2  Resort Hotel            0          7               2015               July   \n",
       "3  Resort Hotel            0         13               2015               July   \n",
       "4  Resort Hotel            0         14               2015               July   \n",
       "\n",
       "   arrival_date_week_number  arrival_date_day_of_month  \\\n",
       "0                        27                          1   \n",
       "1                        27                          1   \n",
       "2                        27                          1   \n",
       "3                        27                          1   \n",
       "4                        27                          1   \n",
       "\n",
       "   stays_in_weekend_nights  stays_in_week_nights  adults  ...  deposit_type  \\\n",
       "0                        0                     0       2  ...    No Deposit   \n",
       "1                        0                     0       2  ...    No Deposit   \n",
       "2                        0                     1       1  ...    No Deposit   \n",
       "3                        0                     1       1  ...    No Deposit   \n",
       "4                        0                     2       2  ...    No Deposit   \n",
       "\n",
       "   agent company days_in_waiting_list customer_type   adr  \\\n",
       "0    NaN     NaN                    0     Transient   0.0   \n",
       "1    NaN     NaN                    0     Transient   0.0   \n",
       "2    NaN     NaN                    0     Transient  75.0   \n",
       "3  304.0     NaN                    0     Transient  75.0   \n",
       "4  240.0     NaN                    0     Transient  98.0   \n",
       "\n",
       "   required_car_parking_spaces  total_of_special_requests  reservation_status  \\\n",
       "0                            0                          0           Check-Out   \n",
       "1                            0                          0           Check-Out   \n",
       "2                            0                          0           Check-Out   \n",
       "3                            0                          0           Check-Out   \n",
       "4                            0                          1           Check-Out   \n",
       "\n",
       "  reservation_status_date  \n",
       "0              2015-07-01  \n",
       "1              2015-07-01  \n",
       "2              2015-07-02  \n",
       "3              2015-07-02  \n",
       "4              2015-07-03  \n",
       "\n",
       "[5 rows x 32 columns]"
      ]
     },
     "execution_count": 113,
     "metadata": {},
     "output_type": "execute_result"
    }
   ],
   "source": [
    "df=pd.read_csv('../data/hotel_bookings.csv') #cargamos datos\n",
    "print(df.columns) # veo columnas\n",
    "df.head()"
   ]
  },
  {
   "cell_type": "code",
   "execution_count": 132,
   "metadata": {},
   "outputs": [],
   "source": [
    "#df.notna().sum().sort_values(ascending=True)\n",
    " #compruebo integridad de los datos, \n",
    " #elimino company, muy pocos datos, elimino filas con datos restandes de agente country y children"
   ]
  },
  {
   "cell_type": "code",
   "execution_count": 115,
   "metadata": {},
   "outputs": [],
   "source": [
    "from sklearn.impute import SimpleImputer\n",
    "\n",
    "imp=SimpleImputer(strategy='most_frequent')\n",
    "df.agent=imp.fit_transform(np.array(df.agent).reshape(-1, 1))\n",
    "\n",
    "\n",
    "df.drop(['company'],axis=1,inplace=True)\n",
    "df.drop(['arrival_date_year'],axis=1,inplace=True)\n",
    "df.drop(['reservation_status_date'],axis=1,inplace=True)\n",
    "df.drop(['reservation_status'],axis=1,inplace=True)\n",
    "df.drop(['assigned_room_type'],axis=1,inplace=True)\n",
    "#df.drop(['country'],axis=1,inplace=True)\n",
    "#df.drop(['lead_time'],axis=1,inplace=True)\n",
    "\n",
    "df['children'].fillna(0,inplace=True)\n",
    "df[\"meal\"].replace({\"Undefined\": \"SC\", }, inplace=True) #las reservas con regimen sin definir las convertimos en reservas sin regimen \n",
    "df['country'].fillna('Unkown',inplace=True)\n",
    "df['agent'].fillna(0,inplace=True)\n",
    "filter = (df.children != 0) | (df.adults != 0) | (df.babies != 0)\n",
    "df.children=df.children.astype(int)\n",
    "df.adr=df.adr.astype(int)\n",
    "df.agent=df.agent.astype(int)\n",
    "df=df[filter]\n",
    "\n",
    "\n",
    "df.is_canceled=df.is_canceled.astype('category')\n",
    "df.is_repeated_guest=df.is_repeated_guest.astype('category')\n",
    "\n"
   ]
  },
  {
   "cell_type": "code",
   "execution_count": 131,
   "metadata": {},
   "outputs": [],
   "source": [
    "#df.notna().sum().sort_values(ascending=True)\n",
    "#comprobar que integridad de los datos"
   ]
  },
  {
   "cell_type": "code",
   "execution_count": 117,
   "metadata": {},
   "outputs": [
    {
     "name": "stdout",
     "output_type": "stream",
     "text": [
      "['hotel', 'arrival_date_month', 'meal', 'country', 'market_segment', 'distribution_channel', 'reserved_room_type', 'deposit_type', 'customer_type']\n"
     ]
    }
   ],
   "source": [
    "from sklearn.preprocessing import LabelEncoder\n",
    "col_cat=df.select_dtypes(exclude=[np.number,'category']).columns.tolist()\n",
    "print(col_cat)\n",
    "le = LabelEncoder()\n",
    "for i in col_cat:\n",
    "    le.fit(df.loc[:,i])\n",
    "    df.loc[:,i]=le.transform(df.loc[:,i])\n",
    "    df.loc[:,i]=df.loc[:,i].astype('category')\n",
    "\n"
   ]
  },
  {
   "cell_type": "code",
   "execution_count": 118,
   "metadata": {},
   "outputs": [
    {
     "name": "stdout",
     "output_type": "stream",
     "text": [
      "(107289, 27) (11921, 27)\n"
     ]
    }
   ],
   "source": [
    "from sklearn.model_selection import train_test_split\n",
    "\n",
    "df_train,df_test=train_test_split(df,test_size=0.1,random_state=42)\n",
    "print(df_train.shape,df_test.shape)"
   ]
  },
  {
   "cell_type": "code",
   "execution_count": 120,
   "metadata": {},
   "outputs": [
    {
     "name": "stdout",
     "output_type": "stream",
     "text": [
      "['lead_time', 'arrival_date_week_number', 'arrival_date_day_of_month', 'stays_in_weekend_nights', 'stays_in_week_nights', 'adults', 'children', 'babies', 'previous_cancellations', 'previous_bookings_not_canceled', 'booking_changes', 'agent', 'days_in_waiting_list', 'adr', 'required_car_parking_spaces', 'total_of_special_requests']\n"
     ]
    }
   ],
   "source": [
    "from sklearn.preprocessing import StandardScaler,RobustScaler,MaxAbsScaler\n",
    "\n",
    "scaler=StandardScaler()\n",
    "num_col=df.select_dtypes(include=np.number).columns.tolist()\n",
    "print(num_col)\n",
    "for i in num_col:\n",
    "    scaler.fit(np.array(df_train.loc[:,i]).reshape(-1, 1))\n",
    "    df_train.loc[:,i]=scaler.transform(np.array(df_train.loc[:,i]).reshape(-1, 1))\n",
    "    df_test.loc[:,i]=scaler.transform(np.array(df_test.loc[:,i]).reshape(-1, 1))\n",
    "#escalado de datos    "
   ]
  },
  {
   "cell_type": "code",
   "execution_count": 121,
   "metadata": {},
   "outputs": [
    {
     "data": {
      "text/plain": [
       "\"col_cat=df.select_dtypes(include=['category']).columns.tolist()\\ncol_cat.remove('is_canceled')\\ndf_train=pd.get_dummies(df_train,columns=col_cat,drop_first=True)\\ndf_test=pd.get_dummies(df_test,columns=col_cat,drop_first=True)\""
      ]
     },
     "execution_count": 121,
     "metadata": {},
     "output_type": "execute_result"
    }
   ],
   "source": [
    "'''col_cat=df.select_dtypes(include=['category']).columns.tolist()\n",
    "col_cat.remove('is_canceled')\n",
    "df_train=pd.get_dummies(df_train,columns=col_cat,drop_first=True)\n",
    "df_test=pd.get_dummies(df_test,columns=col_cat,drop_first=True)'''\n",
    "\n",
    "#no cambia los resultados\n",
    "#uso del onehot encoder no cambia los resultados y aumenta el tiempo de ejecucion, \n",
    "# necesario para xgboost"
   ]
  },
  {
   "cell_type": "code",
   "execution_count": 122,
   "metadata": {},
   "outputs": [
    {
     "data": {
      "text/plain": [
       "\"col_cat=df.select_dtypes(include=['category']).columns.tolist()\\nle = LabelEncoder()\\nfor i in col_cat:\\n    df_train.loc[:,i]=df_train.loc[:,i].astype('int')\\n    df_test.loc[:,i]=df_test.loc[:,i].astype('int')\""
      ]
     },
     "execution_count": 122,
     "metadata": {},
     "output_type": "execute_result"
    }
   ],
   "source": [
    "'''col_cat=df.select_dtypes(include=['category']).columns.tolist()\n",
    "le = LabelEncoder()\n",
    "for i in col_cat:\n",
    "    df_train.loc[:,i]=df_train.loc[:,i].astype('int')\n",
    "    df_test.loc[:,i]=df_test.loc[:,i].astype('int')'''\n",
    "    #en lugar de categorias usar enteros"
   ]
  },
  {
   "cell_type": "code",
   "execution_count": 126,
   "metadata": {},
   "outputs": [
    {
     "name": "stdout",
     "output_type": "stream",
     "text": [
      "              precision    recall  f1-score   support\n",
      "\n",
      "           0       0.87      0.91      0.89      7438\n",
      "           1       0.84      0.76      0.80      4483\n",
      "\n",
      "    accuracy                           0.86     11921\n",
      "   macro avg       0.85      0.84      0.85     11921\n",
      "weighted avg       0.86      0.86      0.86     11921\n",
      "\n"
     ]
    }
   ],
   "source": [
    "from sklearn.ensemble import AdaBoostClassifier\n",
    "from sklearn.tree import DecisionTreeClassifier\n",
    "from sklearn import metrics\n",
    "ada=AdaBoostClassifier(base_estimator = DecisionTreeClassifier(max_depth=3))\n",
    "ada.fit(df_train.drop(['is_canceled'],axis=1),df_train.is_canceled)\n",
    "pred=ada.predict(df_test.drop(['is_canceled'],axis=1))\n",
    "\n",
    "\n",
    "print(metrics.classification_report(df_test.is_canceled.values,pred))"
   ]
  },
  {
   "cell_type": "code",
   "execution_count": 50,
   "metadata": {},
   "outputs": [
    {
     "name": "stdout",
     "output_type": "stream",
     "text": [
      "[16:53:27] WARNING: C:/Users/Administrator/workspace/xgboost-win64_release_1.5.1/src/learner.cc:1115: Starting in XGBoost 1.3.0, the default evaluation metric used with the objective 'binary:logistic' was changed from 'error' to 'logloss'. Explicitly set eval_metric if you'd like to restore the old behavior.\n",
      "              precision    recall  f1-score   support\n",
      "\n",
      "           0       0.87      0.92      0.90      7438\n",
      "           1       0.86      0.77      0.81      4483\n",
      "\n",
      "    accuracy                           0.87     11921\n",
      "   macro avg       0.86      0.85      0.85     11921\n",
      "weighted avg       0.87      0.87      0.86     11921\n",
      "\n"
     ]
    }
   ],
   "source": [
    "from xgboost import XGBClassifier\n",
    "ada=XGBClassifier(booster = 'gbtree', learning_rate = 0.1, max_depth = 5, n_estimators = 180)\n",
    "ada.fit(df_train.drop(['is_canceled'],axis=1),df_train.is_canceled)\n",
    "pred=ada.predict(df_test.drop(['is_canceled'],axis=1))\n",
    "\n",
    "\n",
    "print(metrics.classification_report(df_test.is_canceled.values,pred))"
   ]
  },
  {
   "cell_type": "code",
   "execution_count": 129,
   "metadata": {},
   "outputs": [
    {
     "name": "stdout",
     "output_type": "stream",
     "text": [
      "              precision    recall  f1-score   support\n",
      "\n",
      "           0       0.90      0.93      0.91      7438\n",
      "           1       0.88      0.83      0.85      4483\n",
      "\n",
      "    accuracy                           0.89     11921\n",
      "   macro avg       0.89      0.88      0.88     11921\n",
      "weighted avg       0.89      0.89      0.89     11921\n",
      "\n"
     ]
    }
   ],
   "source": [
    "ada=RandomForestClassifier(max_features=1.0,n_estimators=1000)\n",
    "ada.fit(df_train.drop(['is_canceled'],axis=1),df_train.is_canceled)\n",
    "pred=ada.predict(df_test.drop(['is_canceled'],axis=1))\n",
    "\n",
    "\n",
    "print(metrics.classification_report(df_test.is_canceled.values,pred))"
   ]
  },
  {
   "cell_type": "code",
   "execution_count": 109,
   "metadata": {},
   "outputs": [
    {
     "name": "stdout",
     "output_type": "stream",
     "text": [
      "              precision    recall  f1-score   support\n",
      "\n",
      "           0       0.89      0.91      0.90      7438\n",
      "           1       0.85      0.81      0.83      4483\n",
      "\n",
      "    accuracy                           0.87     11921\n",
      "   macro avg       0.87      0.86      0.87     11921\n",
      "weighted avg       0.87      0.87      0.87     11921\n",
      "\n"
     ]
    }
   ],
   "source": [
    "ada=GradientBoostingClassifier(learning_rate=1,max_depth=10,n_estimators=200)\n",
    "ada.fit(df_train.drop(['is_canceled'],axis=1),df_train.is_canceled)\n",
    "pred=ada.predict(df_test.drop(['is_canceled'],axis=1))\n",
    "\n",
    "\n",
    "print(metrics.classification_report(df_test.is_canceled.values,pred))"
   ]
  },
  {
   "cell_type": "code",
   "execution_count": 94,
   "metadata": {},
   "outputs": [
    {
     "name": "stdout",
     "output_type": "stream",
     "text": [
      "              precision    recall  f1-score   support\n",
      "\n",
      "           0       0.87      0.86      0.87      7438\n",
      "           1       0.78      0.78      0.78      4483\n",
      "\n",
      "    accuracy                           0.83     11921\n",
      "   macro avg       0.82      0.82      0.82     11921\n",
      "weighted avg       0.83      0.83      0.83     11921\n",
      "\n"
     ]
    }
   ],
   "source": [
    "ada=KNeighborsClassifier(n_neighbors=1,weights='uniform')\n",
    "ada.fit(df_train.drop(['is_canceled'],axis=1),df_train.is_canceled)\n",
    "pred=ada.predict(df_test.drop(['is_canceled'],axis=1))\n",
    "\n",
    "\n",
    "print(metrics.classification_report(df_test.is_canceled.values,pred))"
   ]
  },
  {
   "cell_type": "code",
   "execution_count": 80,
   "metadata": {},
   "outputs": [
    {
     "name": "stdout",
     "output_type": "stream",
     "text": [
      "              precision    recall  f1-score   support\n",
      "\n",
      "           0       0.90      0.93      0.92      7438\n",
      "           1       0.88      0.83      0.85      4483\n",
      "\n",
      "    accuracy                           0.89     11921\n",
      "   macro avg       0.89      0.88      0.88     11921\n",
      "weighted avg       0.89      0.89      0.89     11921\n",
      "\n"
     ]
    }
   ],
   "source": [
    "ada=BaggingClassifier(max_features=1.0,n_estimators=200)\n",
    "ada.fit(df_train.drop(['is_canceled'],axis=1),df_train.is_canceled)\n",
    "pred=ada.predict(df_test.drop(['is_canceled'],axis=1))\n",
    "\n",
    "\n",
    "print(metrics.classification_report(df_test.is_canceled.values,pred))\n",
    "#igual que random forest"
   ]
  },
  {
   "cell_type": "code",
   "execution_count": 130,
   "metadata": {},
   "outputs": [
    {
     "name": "stdout",
     "output_type": "stream",
     "text": [
      "Selected best 15:\n",
      "['hotel' 'lead_time' 'adults' 'country' 'market_segment'\n",
      " 'distribution_channel' 'is_repeated_guest' 'previous_cancellations'\n",
      " 'previous_bookings_not_canceled' 'reserved_room_type' 'booking_changes'\n",
      " 'deposit_type' 'customer_type' 'required_car_parking_spaces'\n",
      " 'total_of_special_requests']\n"
     ]
    }
   ],
   "source": [
    "from sklearn.feature_selection import SelectKBest\n",
    "\n",
    "aux=SelectKBest(k=15)\n",
    "aux.fit_transform(df_train.drop(['is_canceled'],axis=1),df_train['is_canceled'])\n",
    "k_filter = aux.get_support()\n",
    "features = np.array(df_train.drop(['is_canceled'],axis=1).columns)\n",
    " \n",
    "\n",
    "print(\"Selected best 15:\")\n",
    "print(features[k_filter])\n",
    "(df_train[features[k_filter]].head())\n",
    "df_train_15k=df_train[features[k_filter]]\n",
    "df_train_15k['is_canceled']=df_train['is_canceled']\n",
    "df_test_15k=df_test[features[k_filter]]\n",
    "df_test_15k['is_canceled']=df_test['is_canceled']\n"
   ]
  },
  {
   "cell_type": "code",
   "execution_count": 16,
   "metadata": {},
   "outputs": [
    {
     "name": "stdout",
     "output_type": "stream",
     "text": [
      "              precision    recall  f1-score   support\n",
      "\n",
      "           0       0.81      0.86      0.84      7438\n",
      "           1       0.75      0.67      0.71      4483\n",
      "\n",
      "    accuracy                           0.79     11921\n",
      "   macro avg       0.78      0.77      0.77     11921\n",
      "weighted avg       0.79      0.79      0.79     11921\n",
      "\n"
     ]
    }
   ],
   "source": [
    "ada=AdaBoostClassifier(base_estimator = DecisionTreeClassifier())\n",
    "ada.fit(df_train_15k.drop(['is_canceled'],axis=1),df_train_15k.is_canceled)\n",
    "pred=ada.predict(df_test_15k.drop(['is_canceled'],axis=1))\n",
    "\n",
    "\n",
    "print(metrics.classification_report(df_test.is_canceled.values,pred))"
   ]
  },
  {
   "cell_type": "code",
   "execution_count": 17,
   "metadata": {},
   "outputs": [],
   "source": [
    "from sklearn.pipeline import Pipeline\n",
    "from sklearn.ensemble import RandomForestClassifier,GradientBoostingClassifier,BaggingClassifier\n",
    "from sklearn import svm \n",
    "from sklearn.linear_model import LogisticRegression\n",
    "from sklearn.model_selection import GridSearchCV\n",
    "from sklearn.neighbors import KNeighborsClassifier\n",
    "\n",
    "\n",
    "\n",
    "reg_log=Pipeline(steps= [ \n",
    "('reglog',LogisticRegression())\n",
    " ]   )\n",
    "\n",
    "svc=Pipeline([ ('svc',svm.SVC())  ])\n",
    "\n",
    "rand_forest=RandomForestClassifier()\n",
    "\n",
    "adaB=AdaBoostClassifier()\n",
    "knn=KNeighborsClassifier()\n",
    "gb=GradientBoostingClassifier()\n",
    "bag=BaggingClassifier()\n",
    "\n",
    "re_log_param={\n",
    "'reglog__penalty':['l1','l2'],\n",
    "'reglog__C':np.arange(0.1,4,0.5)\n",
    "}\n",
    "\n",
    "svc_param={\n",
    "'svc__C':np.arange(0.1,0.9,0.1),\n",
    "'svc__kernel':['linear','poly','rbf']\n",
    "\n",
    "}\n",
    "rand_forest_param={\n",
    "'n_estimators':[100,500,1000],\n",
    "'max_features':[1.0,2,3]\n",
    " }\n",
    "\n",
    "adaB_param={\n",
    "'n_estimators':[10,100,500,1000],\n",
    "'learning_rate':[0.01,0.1,0.25,0.5,1]\n",
    "}\n",
    "\n",
    "knn_param={\n",
    "'n_neighbors':[1,3,5,7],\n",
    "'weights':['uniform','distance']\n",
    "}\n",
    "gb_param={\n",
    "'max_depth':[1,2,3],\n",
    "'n_estimators':[100,200,500],\n",
    "'learning_rate':[0.01,0.1,0.25,0.5,1]\n",
    "\n",
    "}\n",
    "\n",
    "bag_param={\n",
    "'n_estimators':[50,100,200],\n",
    "'max_samples':[10,50,100,200],\n",
    " 'bootstrap':[True,False]\n",
    "}\n",
    "\n",
    "\n",
    "gs_reg_log=GridSearchCV(reg_log,re_log_param,cv=2,scoring='recall',n_jobs=-1,verbose=1)\n",
    "gs_svm=GridSearchCV(svc,svc_param,cv=2,scoring='recall',n_jobs=-1,verbose=1)\n",
    "gs_rand_forest=GridSearchCV(rand_forest,rand_forest_param,cv=2,scoring='recall',n_jobs=-1,verbose=1)\n",
    "gs_adaB=GridSearchCV(adaB,adaB_param,cv=2,scoring='recall',n_jobs=-1,verbose=1)\n",
    "gs_knn=GridSearchCV(knn,knn_param,cv=2,scoring='recall',n_jobs=-1,verbose=1)\n",
    "gs_gb=GridSearchCV(gb,gb_param,cv=2,scoring='recall',n_jobs=-1,verbose=1)\n",
    "gs_bag=GridSearchCV(bag,bag_param,cv=2,scoring='recall',n_jobs=-1,verbose=1)\n",
    "\n",
    "grids={\n",
    "'gs_reg_log':gs_reg_log,\n",
    "#'gs_svm':gs_svm,\n",
    "'gs_rand_forest':gs_rand_forest,\n",
    "'gs_adaB':gs_adaB,\n",
    "'gs_knn':gs_knn,\n",
    "'gs_gb':gs_gb,\n",
    "'gs_bag':gs_bag\n",
    "}"
   ]
  },
  {
   "cell_type": "code",
   "execution_count": 217,
   "metadata": {},
   "outputs": [
    {
     "name": "stdout",
     "output_type": "stream",
     "text": [
      "Fitting 2 folds for each of 16 candidates, totalling 32 fits\n",
      "Fitting 2 folds for each of 18 candidates, totalling 36 fits\n",
      "Fitting 2 folds for each of 20 candidates, totalling 40 fits\n",
      "Fitting 2 folds for each of 8 candidates, totalling 16 fits\n",
      "Fitting 2 folds for each of 45 candidates, totalling 90 fits\n",
      "Fitting 2 folds for each of 24 candidates, totalling 48 fits\n"
     ]
    }
   ],
   "source": [
    "#tarda más de una hora buscar todos los parametros!!!\n",
    "for nombre,grid_search in grids.items(): \n",
    "    grid_search.fit(df_train.drop(['is_canceled'],axis=1),df_train.is_canceled)"
   ]
  },
  {
   "cell_type": "code",
   "execution_count": 224,
   "metadata": {},
   "outputs": [
    {
     "name": "stdout",
     "output_type": "stream",
     "text": [
      "              precision    recall  f1-score   support\n",
      "\n",
      "           0       0.87      0.94      0.90      7438\n",
      "           1       0.88      0.77      0.82      4483\n",
      "\n",
      "    accuracy                           0.87     11921\n",
      "   macro avg       0.88      0.85      0.86     11921\n",
      "weighted avg       0.88      0.87      0.87     11921\n",
      "\n"
     ]
    }
   ],
   "source": [
    "estimador=gs_rand_forest.best_estimator_\n",
    "estimador.score(df_train.drop(['is_canceled'],axis=1),df_train.is_canceled)\n",
    "pred=estimador.predict(df_test.drop(['is_canceled'],axis=1))\n",
    "print(metrics.classification_report(df_test.is_canceled.values,pred))"
   ]
  },
  {
   "cell_type": "code",
   "execution_count": 218,
   "metadata": {},
   "outputs": [
    {
     "data": {
      "text/html": [
       "<div>\n",
       "<style scoped>\n",
       "    .dataframe tbody tr th:only-of-type {\n",
       "        vertical-align: middle;\n",
       "    }\n",
       "\n",
       "    .dataframe tbody tr th {\n",
       "        vertical-align: top;\n",
       "    }\n",
       "\n",
       "    .dataframe thead th {\n",
       "        text-align: right;\n",
       "    }\n",
       "</style>\n",
       "<table border=\"1\" class=\"dataframe\">\n",
       "  <thead>\n",
       "    <tr style=\"text-align: right;\">\n",
       "      <th></th>\n",
       "      <th>Grid</th>\n",
       "      <th>Best Score</th>\n",
       "    </tr>\n",
       "  </thead>\n",
       "  <tbody>\n",
       "    <tr>\n",
       "      <th>4</th>\n",
       "      <td>gs_gb</td>\n",
       "      <td>0.761028</td>\n",
       "    </tr>\n",
       "    <tr>\n",
       "      <th>3</th>\n",
       "      <td>gs_knn</td>\n",
       "      <td>0.754381</td>\n",
       "    </tr>\n",
       "    <tr>\n",
       "      <th>2</th>\n",
       "      <td>gs_adaB</td>\n",
       "      <td>0.656964</td>\n",
       "    </tr>\n",
       "    <tr>\n",
       "      <th>0</th>\n",
       "      <td>gs_reg_log</td>\n",
       "      <td>0.606456</td>\n",
       "    </tr>\n",
       "    <tr>\n",
       "      <th>5</th>\n",
       "      <td>gs_bag</td>\n",
       "      <td>0.570677</td>\n",
       "    </tr>\n",
       "    <tr>\n",
       "      <th>1</th>\n",
       "      <td>gs_rand_forest</td>\n",
       "      <td>0.022157</td>\n",
       "    </tr>\n",
       "  </tbody>\n",
       "</table>\n",
       "</div>"
      ],
      "text/plain": [
       "             Grid  Best Score\n",
       "4           gs_gb    0.761028\n",
       "3          gs_knn    0.754381\n",
       "2         gs_adaB    0.656964\n",
       "0      gs_reg_log    0.606456\n",
       "5          gs_bag    0.570677\n",
       "1  gs_rand_forest    0.022157"
      ]
     },
     "execution_count": 218,
     "metadata": {},
     "output_type": "execute_result"
    }
   ],
   "source": [
    "best_grids=[(i,j.best_score_) for i,j in grids.items()]\n",
    "best_grids=pd.DataFrame(best_grids,columns=['Grid','Best Score'])\n",
    "best_grids.sort_values(by='Best Score', ascending=False)"
   ]
  },
  {
   "cell_type": "code",
   "execution_count": 225,
   "metadata": {},
   "outputs": [
    {
     "name": "stdout",
     "output_type": "stream",
     "text": [
      "{'max_features': 3, 'n_estimators': 1000}\n"
     ]
    },
    {
     "ename": "AttributeError",
     "evalue": "'GridSearchCV' object has no attribute 'best_params_'",
     "output_type": "error",
     "traceback": [
      "\u001b[1;31m---------------------------------------------------------------------------\u001b[0m",
      "\u001b[1;31mAttributeError\u001b[0m                            Traceback (most recent call last)",
      "\u001b[1;32m<ipython-input-225-a3d7ba1d4452>\u001b[0m in \u001b[0;36m<module>\u001b[1;34m\u001b[0m\n\u001b[0;32m      1\u001b[0m \u001b[0mprint\u001b[0m\u001b[1;33m(\u001b[0m\u001b[0mgs_rand_forest\u001b[0m\u001b[1;33m.\u001b[0m\u001b[0mbest_params_\u001b[0m\u001b[1;33m)\u001b[0m\u001b[1;33m\u001b[0m\u001b[1;33m\u001b[0m\u001b[0m\n\u001b[1;32m----> 2\u001b[1;33m \u001b[0mprint\u001b[0m\u001b[1;33m(\u001b[0m\u001b[0mgs_gb\u001b[0m\u001b[1;33m.\u001b[0m\u001b[0mbest_params_\u001b[0m\u001b[1;33m)\u001b[0m\u001b[1;33m\u001b[0m\u001b[1;33m\u001b[0m\u001b[0m\n\u001b[0m\u001b[0;32m      3\u001b[0m \u001b[0mgs_knn\u001b[0m\u001b[1;33m.\u001b[0m\u001b[0mbest_params_\u001b[0m\u001b[1;33m\u001b[0m\u001b[1;33m\u001b[0m\u001b[0m\n\u001b[0;32m      4\u001b[0m '''\n\u001b[0;32m      5\u001b[0m \u001b[1;33m\u001b[0m\u001b[0m\n",
      "\u001b[1;31mAttributeError\u001b[0m: 'GridSearchCV' object has no attribute 'best_params_'"
     ]
    }
   ],
   "source": [
    "print(gs_rand_forest.best_params_)\n",
    "print(gs_gb.best_params_)\n",
    "gs_knn.best_params_\n",
    "'''\n",
    "\n",
    "{'max_features': 3, 'n_estimators': 1000}\n",
    "{'learning_rate': 1, 'max_depth': 3, 'n_estimators': 200}\n",
    "{'n_neighbors': 1, 'weights': 'uniform'}\n",
    "\n",
    "\n",
    "'''"
   ]
  },
  {
   "cell_type": "code",
   "execution_count": 128,
   "metadata": {},
   "outputs": [
    {
     "name": "stdout",
     "output_type": "stream",
     "text": [
      "              precision    recall  f1-score   support\n",
      "\n",
      "           0       0.89      0.93      0.91      7438\n",
      "           1       0.87      0.81      0.84      4483\n",
      "\n",
      "    accuracy                           0.88     11921\n",
      "   macro avg       0.88      0.87      0.87     11921\n",
      "weighted avg       0.88      0.88      0.88     11921\n",
      "\n"
     ]
    }
   ],
   "source": [
    "from sklearn.ensemble import VotingClassifier\n",
    "\n",
    "rnd_clf=RandomForestClassifier(max_features=1.0,n_estimators=200)\n",
    "gb_clf=GradientBoostingClassifier(learning_rate=1,max_depth=5,n_estimators=200)\n",
    "knn_clf=KNeighborsClassifier(n_neighbors=1,weights='uniform')\n",
    "ada=AdaBoostClassifier(base_estimator = DecisionTreeClassifier())\n",
    "\n",
    "\n",
    "voting_clf= VotingClassifier(estimators=[('rnd',rnd_clf),('gb',gb_clf),('knn',knn_clf),('ada',ada)],\n",
    "voting='soft')\n",
    "\n",
    "\n",
    "voting_clf.fit(df_train.drop(['is_canceled'],axis=1),df_train.is_canceled)\n",
    "pred=voting_clf.predict(df_test.drop(['is_canceled'],axis=1))\n",
    "print(metrics.classification_report(df_test.is_canceled.values,pred))\n"
   ]
  },
  {
   "cell_type": "code",
   "execution_count": 19,
   "metadata": {},
   "outputs": [
    {
     "data": {
      "text/plain": [
       "array([[6914,  524],\n",
       "       [ 994, 3489]], dtype=int64)"
      ]
     },
     "execution_count": 19,
     "metadata": {},
     "output_type": "execute_result"
    }
   ],
   "source": [
    "metrics.confusion_matrix(df_test.is_canceled.values,pred)"
   ]
  }
 ],
 "metadata": {
  "interpreter": {
   "hash": "b206215bcb37d6c7ae5f251e57f07be967b324d1ad4b1f9f11e25a6ac4ec9823"
  },
  "kernelspec": {
   "display_name": "Python 3.8.8 ('base')",
   "language": "python",
   "name": "python3"
  },
  "language_info": {
   "codemirror_mode": {
    "name": "ipython",
    "version": 3
   },
   "file_extension": ".py",
   "mimetype": "text/x-python",
   "name": "python",
   "nbconvert_exporter": "python",
   "pygments_lexer": "ipython3",
   "version": "3.8.8"
  },
  "orig_nbformat": 4
 },
 "nbformat": 4,
 "nbformat_minor": 2
}
